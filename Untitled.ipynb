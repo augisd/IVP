{
 "cells": [
  {
   "cell_type": "code",
   "execution_count": 44,
   "metadata": {},
   "outputs": [],
   "source": [
    "import pandas as pd\n",
    "import nba_api as nba\n",
    "from nba_api.stats.static import teams\n",
    "from nba_api.stats.static import players\n",
    "from nba_api.stats.endpoints import leaguegamelog\n",
    "from nba_api.stats.endpoints import shotchartdetail"
   ]
  },
  {
   "cell_type": "code",
   "execution_count": 42,
   "metadata": {
    "scrolled": true
   },
   "outputs": [],
   "source": [
    "#get teams\n",
    "teams = pd.DataFrame(teams.get_teams())\n",
    "teams.to_csv('data/teams.csv')"
   ]
  },
  {
   "cell_type": "code",
   "execution_count": 41,
   "metadata": {},
   "outputs": [],
   "source": [
    "#Select all games from 17-18 Season, only columns of interest are game_id, matchup and date\n",
    "schedule = leaguegamelog.LeagueGameLog(season_all_time='2017-18').get_data_frames()[0][['GAME_ID','GAME_DATE','MATCHUP']]\n",
    "#Reduce the size of data frame by only keeping the matchup values that contain '@'\n",
    "#(this will also show home/away teams easily)\n",
    "schedule = schedule[schedule['MATCHUP'].str.contains('@')]\n",
    "#This dataframe is now ready, save and move on..\n",
    "schedule.to_csv('data/schedule.csv')"
   ]
  },
  {
   "cell_type": "code",
   "execution_count": 57,
   "metadata": {},
   "outputs": [],
   "source": [
    "shots = shotchartdetail.ShotChartDetail(season_nullable='2017-18', team_id=0, player_id=0).get_data_frames()[0]\n",
    "#shots.columns.values.tolist()\n",
    "shots.to_csv('data/shots.csv')"
   ]
  }
 ],
 "metadata": {
  "kernelspec": {
   "display_name": "Python 3",
   "language": "python",
   "name": "python3"
  },
  "language_info": {
   "codemirror_mode": {
    "name": "ipython",
    "version": 3
   },
   "file_extension": ".py",
   "mimetype": "text/x-python",
   "name": "python",
   "nbconvert_exporter": "python",
   "pygments_lexer": "ipython3",
   "version": "3.7.0"
  }
 },
 "nbformat": 4,
 "nbformat_minor": 2
}
